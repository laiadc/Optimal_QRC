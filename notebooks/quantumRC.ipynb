{
 "cells": [
  {
   "cell_type": "markdown",
   "id": "c4c01dac",
   "metadata": {},
   "source": [
    "## Quantum reservoir computing\n",
    "\n",
    "In this notebook we show how to design the quantum circuits that will be used as quantum reservoirs. We apply this framework to analyse the LiH molecule. The study for the H2O molecule is equivalent."
   ]
  },
  {
   "cell_type": "code",
   "execution_count": 11,
   "id": "0a30830b",
   "metadata": {},
   "outputs": [],
   "source": [
    "import numpy as np\n",
    "from numpy.lib.scimath import sqrt as csqrt\n",
    "from qiskit import QuantumCircuit\n",
    "from qiskit import BasicAer\n",
    "from qiskit.compiler import transpile\n",
    "from qiskit.quantum_info import Statevector\n",
    "from scipy.stats import unitary_group\n",
    "\n",
    "from qiskit.opflow import StateFn\n",
    "from qiskit.opflow import Z,X,Y\n",
    "from qiskit.quantum_info import Pauli\n",
    "from qiskit.opflow import *\n",
    "from qiskit.circuit.library import Diagonal\n",
    "from qiskit.extensions import  UnitaryGate\n",
    "\n",
    "import random\n",
    "from tqdm import tqdm\n",
    "\n",
    "from sklearn.preprocessing import MinMaxScaler\n",
    "from sklearn.model_selection import train_test_split\n",
    "from sklearn.linear_model import Ridge\n",
    "import matplotlib.pyplot as plt\n",
    "\n",
    "import itertools"
   ]
  },
  {
   "cell_type": "code",
   "execution_count": 3,
   "id": "e26b6b73",
   "metadata": {},
   "outputs": [],
   "source": [
    "with open('../training_data/spectrums_LiH.npy', 'rb') as f:\n",
    "            spectrums = np.load(f)\n",
    "with open('../training_data/bond_lengths_LiH.npy', 'rb') as f:\n",
    "            bond_lengths = np.load(f)\n",
    "with open('../training_data/ground_states_LiH.npy', 'rb') as f:\n",
    "            ground_states = np.load(f)"
   ]
  },
  {
   "cell_type": "markdown",
   "id": "79a40efe",
   "metadata": {},
   "source": [
    "## Initialize the quantum circuit\n",
    "\n",
    "The input quantum state of the quantum circuit is the ground state of the molecule. Therefore, we need to initialize the circuit with a state different than $|00..0>$. We use Qiskit to create the circuit to initialize the quantum circuit."
   ]
  },
  {
   "cell_type": "code",
   "execution_count": 5,
   "id": "859a3911",
   "metadata": {},
   "outputs": [],
   "source": [
    "initial_state = ground_states[-1].round(6)\n",
    "initial_state/=np.sqrt(np.sum(initial_state**2))"
   ]
  },
  {
   "cell_type": "code",
   "execution_count": 6,
   "id": "672e3c9d",
   "metadata": {},
   "outputs": [
    {
     "data": {
      "image/png": "[encoded data removed]",
      "text/plain": [
       "<Figure size 447.797x505.68 with 1 Axes>"
      ]
     },
     "execution_count": 6,
     "metadata": {},
     "output_type": "execute_result"
    }
   ],
   "source": [
    "nqbits = 8\n",
    "qc = QuantumCircuit(nqbits)\n",
    "qc.initialize(initial_state, list(range(nqbits)))\n",
    "qc.draw('mpl')"
   ]
  },
  {
   "cell_type": "markdown",
   "id": "4eb8fa8b",
   "metadata": {},
   "source": [
    "We check that the circuit in fact creates the initial state that we want. We measure the final state and compared to the ground state."
   ]
  },
  {
   "cell_type": "code",
   "execution_count": 7,
   "id": "c044096b",
   "metadata": {},
   "outputs": [
    {
     "name": "stdout",
     "output_type": "stream",
     "text": [
      "Proportion of equal values 1.0\n"
     ]
    },
    {
     "data": {
      "text/plain": [
       "{'00000011': (0.10606201687351408+3.647689789110231e-15j),\n",
       " '00001100': (0.006030000959318965+2.1833121248426846e-16j),\n",
       " '00010010': (-0.2384140379295315-8.8557633448616e-15j),\n",
       " '00100001': (0.23841403792953178+8.939030071708487e-15j),\n",
       " '00110000': (0.4589690730178548+1.6767837118791817e-14j),\n",
       " '01000010': (-0.06954201106350928-2.5786664470395237e-15j),\n",
       " '01100000': (0.1457780231919744+5.411903564178644e-15j),\n",
       " '10000001': (0.06954201106350925+2.2833297752544723e-15j),\n",
       " '10010000': (-0.14577802319197355-5.417107734606574e-15j),\n",
       " '11000000': (-0.7824351244783991-2.7564756033271465e-14j)}"
      ]
     },
     "execution_count": 7,
     "metadata": {},
     "output_type": "execute_result"
    }
   ],
   "source": [
    "backend = BasicAer.get_backend('statevector_simulator')\n",
    "job = backend.run(transpile(qc, backend))\n",
    "qc_state = job.result().get_statevector(qc)\n",
    "print('Proportion of equal values', np.sum(np.isclose(qc_state, initial_state))/len(qc_state))\n",
    "\n",
    "Statevector(qc_state).to_dict()"
   ]
  },
  {
   "cell_type": "markdown",
   "id": "f2a7c602",
   "metadata": {},
   "source": [
    "Now that we have checked that the circuit reproduced the initial state, we create the actual quantum circuit that we use as a reservoir."
   ]
  },
  {
   "cell_type": "markdown",
   "id": "c877a0c6",
   "metadata": {},
   "source": [
    "## Create the quantum circuit\n",
    "\n",
    "Now we define the gates applied to the quantum circuit. In this case, we will sample the gates from the set \n",
    "\n",
    "$$\n",
    "G_1 = \\{CNOT, H, X\\}\n",
    "$$\n",
    "\n",
    "where CNOT is the controlled-NOT gate, H stands for Hadamard, and X is the NOT gate. We generate the gates randomly and select the qubit where it applies also randomly."
   ]
  },
  {
   "cell_type": "code",
   "execution_count": 16,
   "id": "22662405",
   "metadata": {},
   "outputs": [
    {
     "data": {
      "image/png": "[encoded data removed]",
      "text/plain": [
       "<Figure size 808.997x505.68 with 1 Axes>"
      ]
     },
     "execution_count": 16,
     "metadata": {},
     "output_type": "execute_result"
    }
   ],
   "source": [
    "num_gates=10\n",
    "nqbits = 8\n",
    "gates_set = ['CNOT', 'X', 'H']\n",
    "gate_idx = list(range(len(gates_set)))\n",
    "qubit_idx = list(range(nqbits))\n",
    "\n",
    "# Initialize quantum circuit\n",
    "qc = QuantumCircuit(nqbits)\n",
    "qc.initialize(initial_state, list(range(nqbits)))\n",
    "\n",
    "\n",
    "# Apply random gates to random qubits\n",
    "for i in range(num_gates):\n",
    "    # Select random gate\n",
    "    # Select random gate\n",
    "    idx = random.sample(gate_idx,1)[0] \n",
    "    gate = gates_set[idx]\n",
    "    if gate=='CNOT': # For 2-qubit gates\n",
    "        # Select qubit 1 and 2 (different qubits)\n",
    "        qbit1 = random.sample(qubit_idx,1)[0]\n",
    "        qubit_idx2 = qubit_idx.copy()\n",
    "        qubit_idx2.remove(qbit1)\n",
    "        qbit2 = random.sample(qubit_idx2,1)[0]\n",
    "        # Apply gate to qubits\n",
    "        qc.cx(qbit1, qbit2) \n",
    "    else: # For 1-qubit gates\n",
    "        # Select qubit\n",
    "        qbit = random.sample(qubit_idx,1)[0]\n",
    "        if gate=='X':# Apply gate\n",
    "            qc.x(qbit) \n",
    "        if gate=='S':\n",
    "            qc.s(qbit) \n",
    "        if gate=='H':\n",
    "            qc.h(qbit) \n",
    "        if gate=='T':\n",
    "            qc.t(qbit) \n",
    "qc.draw('mpl')"
   ]
  },
  {
   "cell_type": "markdown",
   "id": "1bf5e590",
   "metadata": {},
   "source": [
    "## Define observables to measure\n",
    "\n",
    "We measure \n",
    "$$\n",
    "<X_0>, <Y_0>, <Z_0>, \\cdots, <X_7>, <Y_7>, <Z_7>\n",
    "$$"
   ]
  },
  {
   "cell_type": "code",
   "execution_count": 17,
   "id": "88ef1adb",
   "metadata": {},
   "outputs": [],
   "source": [
    "observables = []\n",
    "name_gate=''\n",
    "for i in range(nqbits):\n",
    "    name_gate+= 'I' \n",
    "for i in range(nqbits):\n",
    "    # X\n",
    "    op_nameX = name_gate[:i] + 'X' + name_gate[(i+1):]\n",
    "    obs = PauliOp(Pauli(op_nameX))\n",
    "    observables.append(obs)\n",
    "    # Y\n",
    "    op_nameY = name_gate[:i] + 'Y' + name_gate[(i+1):]\n",
    "    obs = PauliOp(Pauli(op_nameY))\n",
    "    observables.append(obs)\n",
    "    # Z\n",
    "    op_nameZ = name_gate[:i] + 'Z' + name_gate[(i+1):]\n",
    "    obs = PauliOp(Pauli(op_nameZ))\n",
    "    observables.append(obs)"
   ]
  },
  {
   "cell_type": "markdown",
   "id": "981f0471",
   "metadata": {},
   "source": [
    "We now call the backen to calculate the expected values of these operators."
   ]
  },
  {
   "cell_type": "code",
   "execution_count": 18,
   "id": "b650755b",
   "metadata": {},
   "outputs": [],
   "source": [
    "results = []\n",
    "backend = BasicAer.get_backend('statevector_simulator')\n",
    "job = backend.run(transpile(qc, backend))\n",
    "qc_state = job.result().get_statevector(qc)\n",
    "\n",
    "for obs in observables:\n",
    "    obs_mat = obs.to_spmatrix()\n",
    "    expect = np.inner(np.conjugate(qc_state), obs_mat.dot(qc_state)).real\n",
    "    results.append(expect)"
   ]
  },
  {
   "cell_type": "code",
   "execution_count": 19,
   "id": "15b0bbe6",
   "metadata": {},
   "outputs": [
    {
     "name": "stdout",
     "output_type": "stream",
     "text": [
      "[-0.     -0.      0.      0.     -0.      0.7691  0.4225 -0.     -0.\n",
      " -0.      0.     -0.4225 -0.     -0.      0.9999 -0.9999  0.      0.\n",
      "  0.     -0.     -0.     -0.      0.     -0.8541]\n"
     ]
    }
   ],
   "source": [
    "print(np.array(results).round(4))"
   ]
  },
  {
   "cell_type": "markdown",
   "id": "a3008c64",
   "metadata": {},
   "source": [
    "## Studied gates\n",
    "\n",
    "In this section we present all the sets of gates that we will study. In particular, we study seven sets of gates:\n",
    "\n",
    "1. $G_1=\\{\\text{CNOT, H, NOT}\\}$\n",
    "2. $G_2=\\{\\text{CNOT, H, S}\\}$\n",
    "3. $G_3=\\{\\text{CNOT, H, T}\\}$\n",
    "4. **Matchgate circuits**. Matchgates are two-qubit gates formed from two one-qubit gates A and B with the same determinant: A acts on the even-parity subspace (spanned by |00> and |11>) and B acts on the odd-parity subspace (spanned by |01> and |10>).\n",
    "\n",
    "$$\n",
    "G(A,B) = \n",
    "\\begin{pmatrix} \n",
    "a_1 & 0 & 0 & a_2 \\\\\n",
    "0 & b_1 & b_2 & 0 \\\\\n",
    "0 & b_3 & b_4 & 0 \\\\\n",
    "a_3 & 0 & 0 & a_4\n",
    "\\end{pmatrix}, \\quad |A| = |B|\n",
    "$$\n",
    "\n",
    "5. $D_2$. Diagonal gate of two qubits. For every pair of qubits, we apply the diagonal gate:\n",
    "\n",
    "$$\n",
    "D_2(\\phi_1, \\cdots, \\phi_4) = \n",
    "\\begin{pmatrix} \n",
    "e^{i\\phi_1} & 0 & 0 & 0 \\\\\n",
    "0 & e^{i\\phi_2} & 0 & 0 \\\\\n",
    "0 & 0 & e^{i\\phi_3} & 0 \\\\\n",
    "0 & 0 & 0 & e^{i\\phi_4}\n",
    "\\end{pmatrix}\n",
    "$$\n",
    "\n",
    "With $\\phi_i$ chosen randomly from $[0, 2\\pi)$. All the gates can be applied simultanously. There are $n(n-1)/2$ gates, for $n$ qubits. For $n=8$, there are 28 gates.\n",
    "\n",
    "6. $D_3$. Diagonal gate of tree qubits. For every triplet of qubits, we apply the diagonal gate:\n",
    "$$\n",
    "D_3(\\phi_1, \\cdots, \\phi_8) = \n",
    "\\begin{pmatrix} \n",
    "e^{i\\phi_1} & 0 & 0 & 0 & 0 & 0 & 0 & 0\\\\\n",
    "0 & e^{i\\phi_2} & 0 & 0 & 0 & 0 & 0 & 0\\\\\n",
    "0 & 0 & e^{i\\phi_3} & 0 & 0 & 0 & 0 & 0\\\\\n",
    "0 & 0 & 0 & e^{i\\phi_4} & 0 & 0 & 0 & 0\\\\\n",
    "0 & 0 & 0 & 0 & e^{i\\phi_5} & 0 & 0 & 0\\\\\n",
    "0 & 0 & 0 & 0 & 0 & e^{i\\phi_6} & 0 & 0\\\\\n",
    "0 & 0 & 0 & 0 & 0 & 0 & e^{i\\phi_7} & 0\\\\\n",
    "0 & 0 & 0 & 0 & 0 & 0 & 0 & e^{i\\phi_8}\\\\\n",
    "\\end{pmatrix}\n",
    "$$\n",
    "\n",
    "With $\\phi_i$ chosen randomly from $[0, 2\\pi)$. All the gates can be applied simultanously. There are $n(n-1)(n-2)/6$ gates, for $n$ qubits. For $n=8$ there are 56 gates.\n",
    "\n",
    "7. $D_n$. Diagonal gate for all the qubits. Only one gate is applied to the circuit.\n",
    "\n",
    "$$\n",
    "D_n(\\phi_1, \\cdots, \\phi_{2^n}) = \n",
    "\\begin{pmatrix} \n",
    "e^{i\\phi_1} & 0 & \\cdots & 0  \\\\\n",
    "0 & e^{i\\phi_2} & \\cdots & 0 \\\\\n",
    "\\vdots & \\vdots  & \\ddots & \\vdots \\\\\n",
    " 0 & 0 & \\cdots & e^{i\\phi_{2^n}}\n",
    "\\end{pmatrix}\n",
    "$$\n",
    "\n",
    "\n",
    "With $\\phi_i$ chosen randomly from $[0, 2\\pi)$."
   ]
  },
  {
   "cell_type": "markdown",
   "id": "60bb82a3",
   "metadata": {},
   "source": [
    "# All together\n",
    "\n",
    "We define a function wich takes as input the ground state of the system and the parameters of the circuit (number of gates, gate set, observables) and outputs the expected value of the observables."
   ]
  },
  {
   "cell_type": "code",
   "execution_count": 22,
   "id": "aee9cfd8",
   "metadata": {},
   "outputs": [],
   "source": [
    "class QuantumCircQiskit:\n",
    "    def __init__(self, gates_name, num_gates=50,nqbits=8,observables_type = 'single'):\n",
    "        \n",
    "        self.num_gates = num_gates\n",
    "        self.gates_name = gates_name\n",
    "        self.observables_type = observables_type\n",
    "        self.gates_set = []\n",
    "        self.qubits_set = []\n",
    "        self.nqbits=nqbits\n",
    "        if self.gates_name=='G1':\n",
    "            gates = ['CNOT', 'H', 'X']\n",
    "        if self.gates_name=='G2':\n",
    "            gates = ['CNOT', 'H', 'S']\n",
    "        if self.gates_name=='G3':\n",
    "            gates = ['CNOT', 'H', 'T']  \n",
    "        \n",
    "        qubit_idx = list(range(self.nqbits))\n",
    "        # Store gates\n",
    "        if self.gates_name in ['G1', 'G2', 'G3']:\n",
    "            for i in range(self.num_gates):\n",
    "                # Select random gate\n",
    "                gate = random.sample(gates,1)[0] \n",
    "                self.gates_set.append(gate)\n",
    "                if gate=='CNOT':\n",
    "                    # Select qubit 1 and 2 (different qubits)\n",
    "                    qbit1 = random.sample(qubit_idx,1)[0]\n",
    "                    qubit_idx2 = qubit_idx.copy()\n",
    "                    qubit_idx2.remove(qbit1)\n",
    "                    qbit2 = random.sample(qubit_idx2,1)[0]\n",
    "                    self.qubits_set.append([qbit1, qbit2])\n",
    "                else:\n",
    "                    # Select qubit\n",
    "                    qbit = random.sample(qubit_idx,1)[0]\n",
    "                    self.qubits_set.append([qbit])\n",
    "        elif self.gates_name=='D2':\n",
    "            qubit_idx = list(range(self.nqbits))\n",
    "            self.qubits_set = list(itertools.combinations(qubit_idx, 2))\n",
    "            self.phis = np.random.uniform(0, 2*np.pi, size=(len(self.qubits_set), 2**2))\n",
    "        elif self.gates_name=='D3':\n",
    "            qubit_idx = list(range(self.nqbits))\n",
    "            self.qubits_set = list(itertools.combinations(qubit_idx, 3))\n",
    "            self.phis = np.random.uniform(0, 2*np.pi, size=(len(self.qubits_set), 2**3))\n",
    "        elif self.gates_name=='Dn':\n",
    "            self.phis = np.random.uniform(0, 2*np.pi, size=(2**self.nqbits))\n",
    "        elif self.gates_name=='MG':\n",
    "            for i in range(self.num_gates):\n",
    "                G = self.matchgate()\n",
    "                self.gates_set.append(G)\n",
    "                qbit1 = random.sample(qubit_idx,1)[0]\n",
    "                qubit_idx2 = qubit_idx.copy()\n",
    "                qubit_idx2.remove(qbit1)\n",
    "                qbit2 = random.sample(qubit_idx2,1)[0]\n",
    "                self.qubits_set.append([qbit1, qbit2])\n",
    "\n",
    "                \n",
    "    def initialization(self, initial_state):\n",
    "        # 1. INITIALIZATION\n",
    "        # Define initial state\n",
    "        initial_state = initial_state.round(6)\n",
    "        initial_state/=np.sqrt(np.sum(initial_state**2))\n",
    "\n",
    "        # Define qiskit circuit to initialize quantum state\n",
    "        self.nqbits = int(np.log2(initial_state.shape[0]))\n",
    "        qc = QuantumCircuit(nqbits)\n",
    "        qc.initialize(initial_state, list(range(nqbits)))\n",
    "        return qc\n",
    "\n",
    "    def apply_G_gates(self, qc):\n",
    "        # Apply random gates to random qubits\n",
    "        for i in range(self.num_gates):\n",
    "            # Select random gate\n",
    "            # Select random gate\n",
    "            gate = self.gates_set[i]\n",
    "            if gate=='CNOT': # For 2-qubit gates\n",
    "                # Select qubit 1 and 2 (different qubits)\n",
    "                qbit1, qbit2 = self.qubits_set[i]\n",
    "                # Apply gate to qubits\n",
    "                qc.cx(qbit1, qbit2) \n",
    "            else: # For 1-qubit gates\n",
    "                # Select qubit\n",
    "                qbit = self.qubits_set[i][0]\n",
    "                if gate=='X':# Apply gate\n",
    "                    qc.x(qbit) \n",
    "                if gate=='S':\n",
    "                    qc.s(qbit) \n",
    "                if gate=='H':\n",
    "                    qc.h(qbit) \n",
    "                if gate=='T':\n",
    "                    qc.t(qbit) \n",
    "    \n",
    "    def apply_matchgates(self, qc):\n",
    "        for i in range(self.num_gates):\n",
    "            gate = self.gates_set[i]\n",
    "            qbit1, qbit2 = self.qubits_set[i]\n",
    "            qc.unitary(gate, [qbit1, qbit2], label='MG')\n",
    "            \n",
    "    def matchgate(self):\n",
    "        A = unitary_group.rvs(2)\n",
    "        B = unitary_group.rvs(2)\n",
    "        detA = np.linalg.det(A)\n",
    "        detB = np.linalg.det(B)\n",
    "        B = B/np.sqrt(detB)*np.sqrt(detA)\n",
    "        G = np.array([[A[0,0],0,0,A[0,1]],[0,B[0,0], B[0,1],0],\n",
    "                      [0,B[1,0],B[1,1],0],[A[1,0],0,0,A[1,1]]])\n",
    "        return G\n",
    "    \n",
    "    def apply_Dn(self, qc):\n",
    "        # Apply Dn gate\n",
    "        diagonals = np.exp(1j*self.phis)\n",
    "        qc += Diagonal(diagonals)\n",
    "        \n",
    "    def apply_D2(self, qc):\n",
    "        i=0\n",
    "        for pair in self.qubits_set:\n",
    "            # Apply D2 gate\n",
    "            diagonals = np.diag(np.exp(1j*self.phis[i]))\n",
    "            D2 = UnitaryGate(diagonals)\n",
    "            qc.append(D2, [pair[0], pair[1]])\n",
    "            i+=1\n",
    "            \n",
    "    def apply_D3(self, qc):\n",
    "        i=0\n",
    "        for pair in self.qubits_set:\n",
    "            # Apply D3 gate\n",
    "            diagonals = np.diag(np.exp(1j*self.phis[i]))\n",
    "            D3 = UnitaryGate(diagonals)\n",
    "            qc.append(D3, [pair[0], pair[1], pair[2]])\n",
    "            i+=1\n",
    "\n",
    "\n",
    "    def get_observables(self):\n",
    "        observables = []\n",
    "        name_gate=''\n",
    "        for i in range(self.nqbits):\n",
    "            name_gate+= 'I' \n",
    "        for i in range(self.nqbits):\n",
    "            # X\n",
    "            op_nameX = name_gate[:i] + 'X' + name_gate[(i+1):]\n",
    "            obs = PauliOp(Pauli(op_nameX))\n",
    "            observables.append(obs)\n",
    "            # Y\n",
    "            op_nameY = name_gate[:i] + 'Y' + name_gate[(i+1):]\n",
    "            obs = PauliOp(Pauli(op_nameY))\n",
    "            observables.append(obs)\n",
    "            # Z\n",
    "            op_nameZ = name_gate[:i] + 'Z' + name_gate[(i+1):]\n",
    "            obs = PauliOp(Pauli(op_nameZ))\n",
    "            observables.append(obs)\n",
    "        return observables\n",
    "\n",
    "    def run_circuit(self, initial_state):\n",
    "\n",
    "        # 1. INITIALIZATION\n",
    "        qc = self.initialization(initial_state)\n",
    "        \n",
    "        # 2. DEFINE RANDOM CIRCUIT\n",
    "        if self.gates_name in ['G1', 'G2', 'G3']:\n",
    "            self.apply_G_gates(qc)\n",
    "        elif self.gates_name=='D2':\n",
    "            self.apply_D2(qc)\n",
    "        elif self.gates_name=='D3':\n",
    "            self.apply_D3(qc)\n",
    "        elif self.gates_name=='Dn':\n",
    "            self.apply_Dn(qc)\n",
    "        elif self.gates_name=='MG':\n",
    "            self.apply_matchgates(qc)\n",
    "        else:\n",
    "            print('Unknown gate')\n",
    "\n",
    "        # Obtain circuit\n",
    "        #circuit = qc.to_circ()\n",
    "\n",
    "        # 3. DEFINE OBSERVABLES\n",
    "        # Define observables to measure\n",
    "        if self.observables_type=='single':\n",
    "            observables = self.get_observables()\n",
    "\n",
    "        # 4. RUN CIRCUIT\n",
    "        results = []\n",
    "        \n",
    "        backend = BasicAer.get_backend('statevector_simulator')\n",
    "        job = backend.run(transpile(qc, backend))\n",
    "        qc_state = job.result().get_statevector(qc)\n",
    "\n",
    "        for obs in observables:\n",
    "            obs_mat = obs.to_spmatrix()\n",
    "            expect = np.inner(np.conjugate(qc_state), obs_mat.dot(qc_state)).real\n",
    "            results.append(expect)\n",
    "\n",
    "        return np.array(results)"
   ]
  },
  {
   "cell_type": "code",
   "execution_count": 26,
   "id": "403e12e6",
   "metadata": {},
   "outputs": [
    {
     "name": "stderr",
     "output_type": "stream",
     "text": [
      "100%|██████████| 300/300 [25:56<00:00,  5.19s/it]\n"
     ]
    }
   ],
   "source": [
    "# Run circuit for all values of ground states:\n",
    "obs_res = []\n",
    "num_states =ground_states.shape[0]\n",
    "qc = QuantumCircQiskit('G1', num_gates=20,nqbits=8,observables_type = 'single')\n",
    "\n",
    "for i in tqdm(range(num_states)):\n",
    "    res = qc.run_circuit(ground_states[i])\n",
    "    obs_res.append(res)\n",
    "obs_res = np.array(obs_res)    "
   ]
  },
  {
   "cell_type": "markdown",
   "id": "5e634e88",
   "metadata": {},
   "source": [
    "## Generate target\n",
    "\n",
    "The target of the model is\n",
    "\n",
    "$$\n",
    "y(t) = (\\Delta E_1(r), \\Delta E_2(r))\n",
    "$$\n",
    "\n",
    "We normalize $y(r)$ so that it lies between 0 and 1 for all the data."
   ]
  },
  {
   "cell_type": "code",
   "execution_count": 27,
   "id": "20aaf9cc",
   "metadata": {},
   "outputs": [],
   "source": [
    "y = np.zeros((num_states, 2))\n",
    "y[:,0] = spectrums[:,1] - spectrums[:,0]\n",
    "y[:,1] = spectrums[:,2] - spectrums[:,0]"
   ]
  },
  {
   "cell_type": "markdown",
   "id": "8f792a44",
   "metadata": {},
   "source": [
    "## Train and test data"
   ]
  },
  {
   "cell_type": "code",
   "execution_count": 28,
   "id": "ec8de47d",
   "metadata": {},
   "outputs": [],
   "source": [
    "X_train, X_test, y_train, y_test, bond_lengths_train, bond_lengths_test = train_test_split( \n",
    "    obs_res, y, bond_lengths, test_size=0.33, random_state=42)"
   ]
  },
  {
   "cell_type": "markdown",
   "id": "f9b0759d",
   "metadata": {},
   "source": [
    "## Scale y"
   ]
  },
  {
   "cell_type": "code",
   "execution_count": 29,
   "id": "aedda18c",
   "metadata": {},
   "outputs": [],
   "source": [
    "scaler = MinMaxScaler()\n",
    "y_train_scaled = scaler.fit_transform(y_train)\n",
    "y_test_scaled = scaler.transform(y_test)"
   ]
  },
  {
   "cell_type": "markdown",
   "id": "c9d2b296",
   "metadata": {},
   "source": [
    "## Train Ridge regression"
   ]
  },
  {
   "cell_type": "code",
   "execution_count": 32,
   "id": "0654a000",
   "metadata": {},
   "outputs": [
    {
     "data": {
      "text/plain": [
       "Ridge(alpha=1e-07)"
      ]
     },
     "execution_count": 32,
     "metadata": {},
     "output_type": "execute_result"
    }
   ],
   "source": [
    "lm = Ridge(alpha=1e-7)\n",
    "lm.fit(X_train, y_train_scaled)"
   ]
  },
  {
   "cell_type": "markdown",
   "id": "fbdd759e",
   "metadata": {},
   "source": [
    "## Test model"
   ]
  },
  {
   "cell_type": "code",
   "execution_count": 33,
   "id": "81f7bb4f",
   "metadata": {},
   "outputs": [
    {
     "name": "stdout",
     "output_type": "stream",
     "text": [
      "Mean Square Error  9.583468318493517e-06\n"
     ]
    },
    {
     "data": {
      "image/png": "[encoded data removed]",
      "text/plain": [
       "<Figure size 432x288 with 1 Axes>"
      ]
     },
     "metadata": {
      "needs_background": "light"
     },
     "output_type": "display_data"
    }
   ],
   "source": [
    "y_hat = lm.predict(X_test)\n",
    "y_hat = scaler.inverse_transform(y_hat)\n",
    "\n",
    "mse = np.mean(np.square(y_hat - y_test))\n",
    "print('Mean Square Error ', mse)\n",
    "\n",
    "plt.scatter(bond_lengths_test,y_test[:,0], label='Exact E1', marker='o')\n",
    "plt.scatter(bond_lengths_test, y_hat[:,0], label='Predicted E1', marker='o')\n",
    "plt.legend()\n",
    "plt.show()"
   ]
  },
  {
   "cell_type": "markdown",
   "id": "254bc598",
   "metadata": {},
   "source": [
    "Now we just have to repeat this experiment 400 times for all the families of gates. The scripts `runQC`and `runQC_H2O` can be used to run the simulations. To run them, just type:\n",
    "\n",
    "`python runQC.py num_gates gates_set observable_type `\n",
    "\n",
    "where \n",
    "\n",
    "+ num_gates is the number of gates (in this work we have used 20, 50, 100, 150, 200)\n",
    "+ gates_set is the name of the gate set, from the list [G1, G2, G3, MG, D2, D3, Dn]\n",
    "+ and observable_type must be single"
   ]
  },
  {
   "cell_type": "code",
   "execution_count": null,
   "id": "20b2b0f2",
   "metadata": {},
   "outputs": [],
   "source": []
  }
 ],
 "metadata": {
  "kernelspec": {
   "display_name": "Quantum",
   "language": "python",
   "name": "quantum"
  },
  "language_info": {
   "codemirror_mode": {
    "name": "ipython",
    "version": 3
   },
   "file_extension": ".py",
   "mimetype": "text/x-python",
   "name": "python",
   "nbconvert_exporter": "python",
   "pygments_lexer": "ipython3",
   "version": "3.9.7"
  }
 },
 "nbformat": 4,
 "nbformat_minor": 5
}
